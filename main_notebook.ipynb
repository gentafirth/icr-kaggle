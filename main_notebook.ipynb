{
 "cells": [
  {
   "cell_type": "code",
   "execution_count": 1,
   "id": "41b95668",
   "metadata": {
    "_cell_guid": "b1076dfc-b9ad-4769-8c92-a6c4dae69d19",
    "_uuid": "8f2839f25d086af736a60e9eeb907d3b93b6e0e5",
    "execution": {
     "iopub.execute_input": "2023-07-01T05:38:16.057173Z",
     "iopub.status.busy": "2023-07-01T05:38:16.056628Z",
     "iopub.status.idle": "2023-07-01T05:38:17.334597Z",
     "shell.execute_reply": "2023-07-01T05:38:17.332932Z"
    },
    "papermill": {
     "duration": 1.283814,
     "end_time": "2023-07-01T05:38:17.336922",
     "exception": false,
     "start_time": "2023-07-01T05:38:16.053108",
     "status": "completed"
    },
    "tags": []
   },
   "outputs": [
    {
     "name": "stdout",
     "output_type": "stream",
     "text": [
      "/kaggle/input/icr-identify-age-related-conditions/sample_submission.csv\n",
      "/kaggle/input/icr-identify-age-related-conditions/greeks.csv\n",
      "/kaggle/input/icr-identify-age-related-conditions/train.csv\n",
      "/kaggle/input/icr-identify-age-related-conditions/test.csv\n"
     ]
    }
   ],
   "source": [
    "# This Python 3 environment comes with many helpful analytics libraries installed\n",
    "# It is defined by the kaggle/python Docker image: https://github.com/kaggle/docker-python\n",
    "# For example, here's several helpful packages to load\n",
    "\n",
    "import warnings\n",
    "import time\n",
    "import random\n",
    "\n",
    "import numpy as np # linear algebra\n",
    "import pandas as pd # data processing, CSV file I/O (e.g. pd.read_csv)\n",
    "from sklearn.linear_model import LogisticRegression\n",
    "from sklearn.svm import LinearSVC\n",
    "from sklearn.model_selection import train_test_split\n",
    "\n",
    "# Input data files are available in the read-only \"../input/\" directory\n",
    "# For example, running this (by clicking run or pressing Shift+Enter) will list all files under the input directory\n",
    "\n",
    "import os\n",
    "for dirname, _, filenames in os.walk('/kaggle/input'):\n",
    "    for filename in filenames:\n",
    "        print(os.path.join(dirname, filename))\n",
    "\n",
    "# You can write up to 20GB to the current directory (/kaggle/working/) that gets preserved as output when you create a version using \"Save & Run All\" \n",
    "# You can also write temporary files to /kaggle/temp/, but they won't be saved outside of the current session"
   ]
  },
  {
   "cell_type": "code",
   "execution_count": 2,
   "id": "0297ad54",
   "metadata": {
    "execution": {
     "iopub.execute_input": "2023-07-01T05:38:17.341758Z",
     "iopub.status.busy": "2023-07-01T05:38:17.341463Z",
     "iopub.status.idle": "2023-07-01T05:38:17.404761Z",
     "shell.execute_reply": "2023-07-01T05:38:17.403954Z"
    },
    "papermill": {
     "duration": 0.067569,
     "end_time": "2023-07-01T05:38:17.406388",
     "exception": false,
     "start_time": "2023-07-01T05:38:17.338819",
     "status": "completed"
    },
    "tags": []
   },
   "outputs": [
    {
     "name": "stdout",
     "output_type": "stream",
     "text": [
      "{'CB', 'BQ', 'DU', 'CC', 'GL', 'FS', 'FL', 'EL', 'FC'}\n"
     ]
    }
   ],
   "source": [
    "master = pd.read_csv(r'/kaggle/input/icr-identify-age-related-conditions/train.csv', index_col = False, delimiter = ',', header=0)\n",
    "testdf = pd.read_csv(r'/kaggle/input/icr-identify-age-related-conditions/test.csv', index_col = False, delimiter = ',', header=0)\n",
    "temp = set()\n",
    "for column in master:\n",
    "    for attrib in master[column].isnull():\n",
    "        if attrib:\n",
    "            temp.add(column)\n",
    "print(temp)\n",
    "            "
   ]
  },
  {
   "cell_type": "code",
   "execution_count": 3,
   "id": "f74440a0",
   "metadata": {
    "execution": {
     "iopub.execute_input": "2023-07-01T05:38:17.411546Z",
     "iopub.status.busy": "2023-07-01T05:38:17.410624Z",
     "iopub.status.idle": "2023-07-01T05:38:17.469089Z",
     "shell.execute_reply": "2023-07-01T05:38:17.468108Z"
    },
    "papermill": {
     "duration": 0.062733,
     "end_time": "2023-07-01T05:38:17.470928",
     "exception": false,
     "start_time": "2023-07-01T05:38:17.408195",
     "status": "completed"
    },
    "tags": []
   },
   "outputs": [
    {
     "name": "stdout",
     "output_type": "stream",
     "text": [
      "0.8431372549019608\n"
     ]
    }
   ],
   "source": [
    "warnings.simplefilter(action='ignore')\n",
    "ID = 'Id'\n",
    "removelist = ['Id', 'Class', 'EJ', 'FL', 'DU', 'FS', 'FC', 'EL', 'BQ', 'CC', 'GL', 'CB']\n",
    "removelist2 = ['Id', 'EJ', 'FL', 'DU', 'FS', 'FC', 'EL', 'BQ', 'CC', 'GL', 'CB']\n",
    "\n",
    "simplelogreg = LogisticRegression()\n",
    "X_train, X_test, y_train, y_test = train_test_split(master.drop(columns=removelist), master['Class'], test_size=0.33, random_state=42)\n",
    "#X_train, X_test, y_train, y_test = train_test_split(master['AB'], master['Class'], test_size=0.33, random_state=42)\n",
    "\n",
    "#simplelogreg.fit(X_train.to_frame(), y_train.to_frame())\n",
    "#simplelogreg.score(X_test.to_frame(), y_test.to_frame())\n",
    "simplelogreg.fit(X_train, y_train.to_frame())\n",
    "print(simplelogreg.score(X_test, y_test.to_frame()))\n",
    "#print(simplelogreg.predict_proba(X_test.to_frame()))\n",
    "\n",
    "output = simplelogreg.predict_proba(testdf.drop(columns=removelist2))\n",
    "output = pd.DataFrame(output, columns=['class_0', 'class_1'])\n",
    "output.insert(loc=0, column=ID, value=testdf[ID])\n",
    "output.to_csv('submission.csv', index=False)"
   ]
  },
  {
   "cell_type": "code",
   "execution_count": null,
   "id": "c868c11b",
   "metadata": {
    "papermill": {
     "duration": 0.001926,
     "end_time": "2023-07-01T05:38:17.475132",
     "exception": false,
     "start_time": "2023-07-01T05:38:17.473206",
     "status": "completed"
    },
    "tags": []
   },
   "outputs": [],
   "source": []
  }
 ],
 "metadata": {
  "kernelspec": {
   "display_name": "Python 3",
   "language": "python",
   "name": "python3"
  },
  "language_info": {
   "codemirror_mode": {
    "name": "ipython",
    "version": 3
   },
   "file_extension": ".py",
   "mimetype": "text/x-python",
   "name": "python",
   "nbconvert_exporter": "python",
   "pygments_lexer": "ipython3",
   "version": "3.10.10"
  },
  "papermill": {
   "default_parameters": {},
   "duration": 10.452537,
   "end_time": "2023-07-01T05:38:18.300285",
   "environment_variables": {},
   "exception": null,
   "input_path": "__notebook__.ipynb",
   "output_path": "__notebook__.ipynb",
   "parameters": {},
   "start_time": "2023-07-01T05:38:07.847748",
   "version": "2.4.0"
  }
 },
 "nbformat": 4,
 "nbformat_minor": 5
}
